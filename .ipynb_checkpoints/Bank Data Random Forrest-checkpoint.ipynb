{
 "cells": [
  {
   "cell_type": "markdown",
   "metadata": {},
   "source": []
  },
  {
   "cell_type": "code",
   "execution_count": 1,
   "metadata": {},
   "outputs": [],
   "source": [
    "import pandas as pd\n",
    "from sklearn.model_selection import train_test_split\n",
    "from sklearn.ensemble import RandomForestRegressor\n",
    "from sklearn.metrics import accuracy_score \n",
    "from sklearn.metrics import classification_report"
   ]
  },
  {
   "cell_type": "code",
   "execution_count": 2,
   "metadata": {},
   "outputs": [],
   "source": [
    "data = pd.read_csv('./bank/bank.csv',\";\") #https://archive.ics.uci.edu/ml/datasets/Bank+Marketing#"
   ]
  },
  {
   "cell_type": "code",
   "execution_count": 3,
   "metadata": {},
   "outputs": [],
   "source": [
    "data[\"default\"] = data[\"default\"].replace(to_replace=['no', 'yes'], value=[0, 1])\n",
    "data[\"housing\"] = data[\"housing\"].replace(to_replace=['no', 'yes'], value=[0, 1])\n",
    "data[\"loan\"] = data[\"loan\"].replace(to_replace=['no', 'yes'], value=[0, 1])\n",
    "data[\"y\"] = data[\"y\"].replace(to_replace=['no', 'yes'], value=[0, 1])\n",
    "data = data.drop(columns=[\"day\", \"month\"])\n",
    "data = pd.get_dummies(data)"
   ]
  },
  {
   "cell_type": "code",
   "execution_count": 25,
   "metadata": {},
   "outputs": [
    {
     "data": {
      "text/plain": [
       "35"
      ]
     },
     "execution_count": 25,
     "metadata": {},
     "output_type": "execute_result"
    }
   ],
   "source": [
    "y = data[\"y\"]\n",
    "X = data.drop(columns=[\"y\"])\n",
    "len(X.columns)"
   ]
  },
  {
   "cell_type": "code",
   "execution_count": 6,
   "metadata": {},
   "outputs": [],
   "source": [
    "X_train, X_test, y_train, y_test = train_test_split(X, y, test_size=0.2, random_state=1)\n",
    "X_train, X_cv, y_train, y_cv = train_test_split(X, y, test_size=0.25, random_state=1)"
   ]
  },
  {
   "cell_type": "code",
   "execution_count": 11,
   "metadata": {},
   "outputs": [
    {
     "data": {
      "text/plain": [
       "RandomForestRegressor(bootstrap=True, criterion='mse', max_depth=None,\n",
       "           max_features='auto', max_leaf_nodes=None,\n",
       "           min_impurity_decrease=0.0, min_impurity_split=None,\n",
       "           min_samples_leaf=1, min_samples_split=2,\n",
       "           min_weight_fraction_leaf=0.0, n_estimators=1000, n_jobs=None,\n",
       "           oob_score=False, random_state=42, verbose=0, warm_start=False)"
      ]
     },
     "execution_count": 11,
     "metadata": {},
     "output_type": "execute_result"
    }
   ],
   "source": [
    "rf = RandomForestRegressor(n_estimators = 1000, random_state = 42)\n",
    "rf.fit(X_train, y_train)\n",
    "predicted_cv = rf.predict(X_cv) > 0.5\n",
    "print(classification_report(y_cv, predicted_cv))"
   ]
  },
  {
   "cell_type": "code",
   "execution_count": 10,
   "metadata": {},
   "outputs": [],
   "source": [
    "rf_2 = RandomForestRegressor(n_estimators = 1000, random_state = 42, max_features=5)\n",
    "rf_2.fit(X_train, y_train)\n",
    "predicted_cv = rf_2.predict(X_cv) > 0.5\n",
    "print(classification_report(y_cv, predicted_cv))"
   ]
  },
  {
   "cell_type": "code",
   "execution_count": 36,
   "metadata": {},
   "outputs": [
    {
     "name": "stdout",
     "output_type": "stream",
     "text": [
      "              precision    recall  f1-score   support\n",
      "\n",
      "           0       0.88      1.00      0.93       988\n",
      "           1       1.00      0.01      0.03       143\n",
      "\n",
      "   micro avg       0.88      0.88      0.88      1131\n",
      "   macro avg       0.94      0.51      0.48      1131\n",
      "weighted avg       0.89      0.88      0.82      1131\n",
      "\n"
     ]
    }
   ],
   "source": [
    "rf_3 = RandomForestRegressor(n_estimators = 1000, random_state = 42, max_features=5, min_samples_split=200)\n",
    "rf_3.fit(X_train, y_train)\n",
    "predicted_test = rf_3.predict(X_cv) > 0.5\n",
    "print(classification_report(y_cv, predicted_test))"
   ]
  },
  {
   "cell_type": "code",
   "execution_count": 35,
   "metadata": {},
   "outputs": [
    {
     "name": "stdout",
     "output_type": "stream",
     "text": [
      "              precision    recall  f1-score   support\n",
      "\n",
      "           0       0.87      1.00      0.93       790\n",
      "           1       1.00      0.02      0.03       115\n",
      "\n",
      "   micro avg       0.88      0.88      0.88       905\n",
      "   macro avg       0.94      0.51      0.48       905\n",
      "weighted avg       0.89      0.88      0.82       905\n",
      "\n"
     ]
    }
   ],
   "source": [
    "predicted_test = rf_3.predict(X_test) > 0.5\n",
    "print(classification_report(y_test, predicted_test))"
   ]
  },
  {
   "cell_type": "code",
   "execution_count": null,
   "metadata": {},
   "outputs": [],
   "source": []
  }
 ],
 "metadata": {
  "kernelspec": {
   "display_name": "Python 3",
   "language": "python",
   "name": "python3"
  },
  "language_info": {
   "codemirror_mode": {
    "name": "ipython",
    "version": 3
   },
   "file_extension": ".py",
   "mimetype": "text/x-python",
   "name": "python",
   "nbconvert_exporter": "python",
   "pygments_lexer": "ipython3",
   "version": "3.7.1"
  }
 },
 "nbformat": 4,
 "nbformat_minor": 2
}
